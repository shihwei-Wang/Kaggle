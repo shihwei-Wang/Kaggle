{
 "cells": [
  {
   "cell_type": "code",
   "execution_count": 1,
   "metadata": {},
   "outputs": [],
   "source": [
    "import os\n",
    "\n",
    "import pandas as pd\n",
    "import numpy as np\n",
    "import matplotlib.pyplot as plt\n",
    "\n",
    "from sklearn.model_selection import train_test_split"
   ]
  },
  {
   "cell_type": "code",
   "execution_count": 2,
   "metadata": {},
   "outputs": [],
   "source": [
    "import tensorflow as tf\n",
    "from tensorflow import keras\n",
    "from tensorflow.keras import layers\n",
    "\n",
    "from keras.models import Sequential\n",
    "from keras.utils.np_utils import to_categorical \n",
    "from keras.layers import Dense, Dropout, Activation, Flatten\n",
    "from tensorflow.keras.preprocessing.image import ImageDataGenerator"
   ]
  },
  {
   "cell_type": "markdown",
   "metadata": {},
   "source": [
    "## Load Data"
   ]
  },
  {
   "cell_type": "code",
   "execution_count": 3,
   "metadata": {
    "execution": {
     "iopub.execute_input": "2021-05-20T18:52:57.517563Z",
     "iopub.status.busy": "2021-05-20T18:52:57.516807Z",
     "iopub.status.idle": "2021-05-20T18:53:03.104331Z",
     "shell.execute_reply": "2021-05-20T18:53:03.103787Z",
     "shell.execute_reply.started": "2021-05-20T18:32:09.589006Z"
    },
    "papermill": {
     "duration": 5.602376,
     "end_time": "2021-05-20T18:53:03.104489",
     "exception": false,
     "start_time": "2021-05-20T18:52:57.502113",
     "status": "completed"
    },
    "tags": []
   },
   "outputs": [],
   "source": [
    "# Load data\n",
    "train = pd.read_csv('D:/Users/owner/Desktop/Kaggle/train.csv')\n",
    "test = pd.read_csv('D:/Users/owner/Desktop/Kaggle/test.csv')"
   ]
  },
  {
   "cell_type": "code",
   "execution_count": 3,
   "metadata": {
    "execution": {
     "iopub.execute_input": "2021-05-20T18:52:57.517563Z",
     "iopub.status.busy": "2021-05-20T18:52:57.516807Z",
     "iopub.status.idle": "2021-05-20T18:53:03.104331Z",
     "shell.execute_reply": "2021-05-20T18:53:03.103787Z",
     "shell.execute_reply.started": "2021-05-20T18:32:09.589006Z"
    },
    "papermill": {
     "duration": 5.602376,
     "end_time": "2021-05-20T18:53:03.104489",
     "exception": false,
     "start_time": "2021-05-20T18:52:57.502113",
     "status": "completed"
    },
    "tags": []
   },
   "outputs": [],
   "source": [
    "# Load data\n",
    "#train = pd.read_csv('../input/digit-recognizer/train.csv')\n",
    "#test = pd.read_csv('../input/digit-recognizer/test.csv')"
   ]
  },
  {
   "cell_type": "code",
   "execution_count": 45,
   "metadata": {},
   "outputs": [],
   "source": [
    "submission =  pd.read_csv('D:/Users/owner/Desktop/Kaggle/sample_submission.csv')"
   ]
  },
  {
   "cell_type": "code",
   "execution_count": 4,
   "metadata": {},
   "outputs": [
    {
     "data": {
      "text/html": [
       "<div>\n",
       "<style scoped>\n",
       "    .dataframe tbody tr th:only-of-type {\n",
       "        vertical-align: middle;\n",
       "    }\n",
       "\n",
       "    .dataframe tbody tr th {\n",
       "        vertical-align: top;\n",
       "    }\n",
       "\n",
       "    .dataframe thead th {\n",
       "        text-align: right;\n",
       "    }\n",
       "</style>\n",
       "<table border=\"1\" class=\"dataframe\">\n",
       "  <thead>\n",
       "    <tr style=\"text-align: right;\">\n",
       "      <th></th>\n",
       "      <th>label</th>\n",
       "      <th>pixel0</th>\n",
       "      <th>pixel1</th>\n",
       "      <th>pixel2</th>\n",
       "      <th>pixel3</th>\n",
       "      <th>pixel4</th>\n",
       "      <th>pixel5</th>\n",
       "      <th>pixel6</th>\n",
       "      <th>pixel7</th>\n",
       "      <th>pixel8</th>\n",
       "      <th>...</th>\n",
       "      <th>pixel774</th>\n",
       "      <th>pixel775</th>\n",
       "      <th>pixel776</th>\n",
       "      <th>pixel777</th>\n",
       "      <th>pixel778</th>\n",
       "      <th>pixel779</th>\n",
       "      <th>pixel780</th>\n",
       "      <th>pixel781</th>\n",
       "      <th>pixel782</th>\n",
       "      <th>pixel783</th>\n",
       "    </tr>\n",
       "  </thead>\n",
       "  <tbody>\n",
       "    <tr>\n",
       "      <th>0</th>\n",
       "      <td>1</td>\n",
       "      <td>0</td>\n",
       "      <td>0</td>\n",
       "      <td>0</td>\n",
       "      <td>0</td>\n",
       "      <td>0</td>\n",
       "      <td>0</td>\n",
       "      <td>0</td>\n",
       "      <td>0</td>\n",
       "      <td>0</td>\n",
       "      <td>...</td>\n",
       "      <td>0</td>\n",
       "      <td>0</td>\n",
       "      <td>0</td>\n",
       "      <td>0</td>\n",
       "      <td>0</td>\n",
       "      <td>0</td>\n",
       "      <td>0</td>\n",
       "      <td>0</td>\n",
       "      <td>0</td>\n",
       "      <td>0</td>\n",
       "    </tr>\n",
       "    <tr>\n",
       "      <th>1</th>\n",
       "      <td>0</td>\n",
       "      <td>0</td>\n",
       "      <td>0</td>\n",
       "      <td>0</td>\n",
       "      <td>0</td>\n",
       "      <td>0</td>\n",
       "      <td>0</td>\n",
       "      <td>0</td>\n",
       "      <td>0</td>\n",
       "      <td>0</td>\n",
       "      <td>...</td>\n",
       "      <td>0</td>\n",
       "      <td>0</td>\n",
       "      <td>0</td>\n",
       "      <td>0</td>\n",
       "      <td>0</td>\n",
       "      <td>0</td>\n",
       "      <td>0</td>\n",
       "      <td>0</td>\n",
       "      <td>0</td>\n",
       "      <td>0</td>\n",
       "    </tr>\n",
       "    <tr>\n",
       "      <th>2</th>\n",
       "      <td>1</td>\n",
       "      <td>0</td>\n",
       "      <td>0</td>\n",
       "      <td>0</td>\n",
       "      <td>0</td>\n",
       "      <td>0</td>\n",
       "      <td>0</td>\n",
       "      <td>0</td>\n",
       "      <td>0</td>\n",
       "      <td>0</td>\n",
       "      <td>...</td>\n",
       "      <td>0</td>\n",
       "      <td>0</td>\n",
       "      <td>0</td>\n",
       "      <td>0</td>\n",
       "      <td>0</td>\n",
       "      <td>0</td>\n",
       "      <td>0</td>\n",
       "      <td>0</td>\n",
       "      <td>0</td>\n",
       "      <td>0</td>\n",
       "    </tr>\n",
       "    <tr>\n",
       "      <th>3</th>\n",
       "      <td>4</td>\n",
       "      <td>0</td>\n",
       "      <td>0</td>\n",
       "      <td>0</td>\n",
       "      <td>0</td>\n",
       "      <td>0</td>\n",
       "      <td>0</td>\n",
       "      <td>0</td>\n",
       "      <td>0</td>\n",
       "      <td>0</td>\n",
       "      <td>...</td>\n",
       "      <td>0</td>\n",
       "      <td>0</td>\n",
       "      <td>0</td>\n",
       "      <td>0</td>\n",
       "      <td>0</td>\n",
       "      <td>0</td>\n",
       "      <td>0</td>\n",
       "      <td>0</td>\n",
       "      <td>0</td>\n",
       "      <td>0</td>\n",
       "    </tr>\n",
       "    <tr>\n",
       "      <th>4</th>\n",
       "      <td>0</td>\n",
       "      <td>0</td>\n",
       "      <td>0</td>\n",
       "      <td>0</td>\n",
       "      <td>0</td>\n",
       "      <td>0</td>\n",
       "      <td>0</td>\n",
       "      <td>0</td>\n",
       "      <td>0</td>\n",
       "      <td>0</td>\n",
       "      <td>...</td>\n",
       "      <td>0</td>\n",
       "      <td>0</td>\n",
       "      <td>0</td>\n",
       "      <td>0</td>\n",
       "      <td>0</td>\n",
       "      <td>0</td>\n",
       "      <td>0</td>\n",
       "      <td>0</td>\n",
       "      <td>0</td>\n",
       "      <td>0</td>\n",
       "    </tr>\n",
       "  </tbody>\n",
       "</table>\n",
       "<p>5 rows × 785 columns</p>\n",
       "</div>"
      ],
      "text/plain": [
       "   label  pixel0  pixel1  pixel2  pixel3  pixel4  pixel5  pixel6  pixel7  \\\n",
       "0      1       0       0       0       0       0       0       0       0   \n",
       "1      0       0       0       0       0       0       0       0       0   \n",
       "2      1       0       0       0       0       0       0       0       0   \n",
       "3      4       0       0       0       0       0       0       0       0   \n",
       "4      0       0       0       0       0       0       0       0       0   \n",
       "\n",
       "   pixel8  ...  pixel774  pixel775  pixel776  pixel777  pixel778  pixel779  \\\n",
       "0       0  ...         0         0         0         0         0         0   \n",
       "1       0  ...         0         0         0         0         0         0   \n",
       "2       0  ...         0         0         0         0         0         0   \n",
       "3       0  ...         0         0         0         0         0         0   \n",
       "4       0  ...         0         0         0         0         0         0   \n",
       "\n",
       "   pixel780  pixel781  pixel782  pixel783  \n",
       "0         0         0         0         0  \n",
       "1         0         0         0         0  \n",
       "2         0         0         0         0  \n",
       "3         0         0         0         0  \n",
       "4         0         0         0         0  \n",
       "\n",
       "[5 rows x 785 columns]"
      ]
     },
     "execution_count": 4,
     "metadata": {},
     "output_type": "execute_result"
    }
   ],
   "source": [
    "data.head()"
   ]
  },
  {
   "cell_type": "code",
   "execution_count": 5,
   "metadata": {},
   "outputs": [
    {
     "data": {
      "text/plain": [
       "(42000, 785)"
      ]
     },
     "execution_count": 5,
     "metadata": {},
     "output_type": "execute_result"
    }
   ],
   "source": [
    "# View data dimensions\n",
    "data.shape"
   ]
  },
  {
   "cell_type": "markdown",
   "metadata": {},
   "source": [
    "## Data Preprocessing"
   ]
  },
  {
   "cell_type": "code",
   "execution_count": 6,
   "metadata": {},
   "outputs": [
    {
     "data": {
      "text/plain": [
       "array([1, 0, 1, ..., 7, 6, 9], dtype=int64)"
      ]
     },
     "execution_count": 6,
     "metadata": {},
     "output_type": "execute_result"
    }
   ],
   "source": [
    "# build up \"labels\"\n",
    "labels = data['label']\n",
    "labels = np.array(labels)\n",
    "labels"
   ]
  },
  {
   "cell_type": "code",
   "execution_count": 7,
   "metadata": {},
   "outputs": [
    {
     "data": {
      "text/plain": [
       "(42000, 784)"
      ]
     },
     "execution_count": 7,
     "metadata": {},
     "output_type": "execute_result"
    }
   ],
   "source": [
    "# Delete label in the data\n",
    "del data['label']\n",
    "data.shape"
   ]
  },
  {
   "cell_type": "code",
   "execution_count": 8,
   "metadata": {
    "execution": {
     "iopub.execute_input": "2021-05-20T18:53:03.324707Z",
     "iopub.status.busy": "2021-05-20T18:53:03.323894Z",
     "iopub.status.idle": "2021-05-20T18:53:03.554963Z",
     "shell.execute_reply": "2021-05-20T18:53:03.555471Z",
     "shell.execute_reply.started": "2021-05-20T18:32:19.651694Z"
    },
    "papermill": {
     "duration": 0.37992,
     "end_time": "2021-05-20T18:53:03.555690",
     "exception": false,
     "start_time": "2021-05-20T18:53:03.175770",
     "status": "completed"
    },
    "tags": []
   },
   "outputs": [],
   "source": [
    "# Split data for train and prediction datasets\n",
    "data = data / 255\n",
    "test = test / 255"
   ]
  },
  {
   "cell_type": "code",
   "execution_count": 9,
   "metadata": {
    "execution": {
     "iopub.execute_input": "2021-05-20T18:53:04.294603Z",
     "iopub.status.busy": "2021-05-20T18:53:04.293261Z",
     "iopub.status.idle": "2021-05-20T18:53:04.300036Z",
     "shell.execute_reply": "2021-05-20T18:53:04.301230Z",
     "shell.execute_reply.started": "2021-05-20T18:32:23.588349Z"
    },
    "papermill": {
     "duration": 0.027746,
     "end_time": "2021-05-20T18:53:04.301781",
     "exception": false,
     "start_time": "2021-05-20T18:53:04.274035",
     "status": "completed"
    },
    "tags": []
   },
   "outputs": [
    {
     "name": "stdout",
     "output_type": "stream",
     "text": [
      "(42000, 784)\n",
      "(42000,)\n",
      "(28000, 784)\n"
     ]
    }
   ],
   "source": [
    "# Data shape\n",
    "print(data.shape)\n",
    "print(labels.shape)\n",
    "print(test.shape)"
   ]
  },
  {
   "cell_type": "code",
   "execution_count": 10,
   "metadata": {},
   "outputs": [
    {
     "data": {
      "text/plain": [
       "(42000, 28, 28)"
      ]
     },
     "execution_count": 10,
     "metadata": {},
     "output_type": "execute_result"
    }
   ],
   "source": [
    "# Reshape the data\n",
    "data = np.array(data).reshape(-1, 28, 28)\n",
    "data.shape"
   ]
  },
  {
   "cell_type": "code",
   "execution_count": 11,
   "metadata": {},
   "outputs": [],
   "source": [
    "# Add dimension\n",
    "data = np.expand_dims(data,axis=-1)\n",
    "labels = np.expand_dims(labels,axis=-1)"
   ]
  },
  {
   "cell_type": "code",
   "execution_count": 12,
   "metadata": {},
   "outputs": [
    {
     "data": {
      "text/plain": [
       "(42000, 28, 28, 1)"
      ]
     },
     "execution_count": 12,
     "metadata": {},
     "output_type": "execute_result"
    }
   ],
   "source": [
    "data.shape"
   ]
  },
  {
   "cell_type": "code",
   "execution_count": 13,
   "metadata": {},
   "outputs": [
    {
     "data": {
      "text/plain": [
       "(42000, 1)"
      ]
     },
     "execution_count": 13,
     "metadata": {},
     "output_type": "execute_result"
    }
   ],
   "source": [
    "labels.shape"
   ]
  },
  {
   "cell_type": "code",
   "execution_count": 14,
   "metadata": {
    "execution": {
     "iopub.execute_input": "2021-05-20T18:53:04.334445Z",
     "iopub.status.busy": "2021-05-20T18:53:04.333469Z",
     "iopub.status.idle": "2021-05-20T18:53:04.338527Z",
     "shell.execute_reply": "2021-05-20T18:53:04.337577Z",
     "shell.execute_reply.started": "2021-05-20T18:32:25.466349Z"
    },
    "papermill": {
     "duration": 0.023562,
     "end_time": "2021-05-20T18:53:04.338733",
     "exception": false,
     "start_time": "2021-05-20T18:53:04.315171",
     "status": "completed"
    },
    "tags": []
   },
   "outputs": [],
   "source": [
    "# labels category\n",
    "labels = to_categorical(labels, num_classes = 10)"
   ]
  },
  {
   "cell_type": "code",
   "execution_count": 15,
   "metadata": {},
   "outputs": [
    {
     "name": "stdout",
     "output_type": "stream",
     "text": [
      "(42000, 28, 28, 1)\n",
      "(42000, 10)\n"
     ]
    }
   ],
   "source": [
    "# Check the shape\n",
    "print(data.shape)\n",
    "print(labels.shape)"
   ]
  },
  {
   "cell_type": "code",
   "execution_count": 16,
   "metadata": {},
   "outputs": [
    {
     "data": {
      "text/plain": [
       "(28000, 28, 28, 1)"
      ]
     },
     "execution_count": 16,
     "metadata": {},
     "output_type": "execute_result"
    }
   ],
   "source": [
    "# Convert test data\n",
    "test = test.to_numpy().reshape(-1,28,28)\n",
    "test = np.expand_dims(test,axis=-1)\n",
    "\n",
    "test.shape"
   ]
  },
  {
   "cell_type": "code",
   "execution_count": 21,
   "metadata": {
    "execution": {
     "iopub.execute_input": "2021-05-20T18:53:04.376301Z",
     "iopub.status.busy": "2021-05-20T18:53:04.374754Z",
     "iopub.status.idle": "2021-05-20T18:53:04.859438Z",
     "shell.execute_reply": "2021-05-20T18:53:04.859881Z",
     "shell.execute_reply.started": "2021-05-20T18:32:27.834334Z"
    },
    "papermill": {
     "duration": 0.503228,
     "end_time": "2021-05-20T18:53:04.860096",
     "exception": false,
     "start_time": "2021-05-20T18:53:04.356868",
     "status": "completed"
    },
    "tags": []
   },
   "outputs": [],
   "source": [
    "# Split data and labels for train and test datasets\n",
    "X_train, X_test, y_train, y_test = train_test_split(data, labels, test_size = 0.2)"
   ]
  },
  {
   "cell_type": "code",
   "execution_count": 22,
   "metadata": {},
   "outputs": [
    {
     "name": "stdout",
     "output_type": "stream",
     "text": [
      "(33600, 28, 28, 1)\n",
      "(33600, 10)\n"
     ]
    }
   ],
   "source": [
    "# Check the shape for train data\n",
    "print(X_train.shape)\n",
    "print(y_train.shape)"
   ]
  },
  {
   "cell_type": "code",
   "execution_count": 23,
   "metadata": {},
   "outputs": [
    {
     "name": "stdout",
     "output_type": "stream",
     "text": [
      "(8400, 28, 28, 1)\n",
      "(8400, 10)\n"
     ]
    }
   ],
   "source": [
    "# Check the shape for test data\n",
    "print(X_test.shape)\n",
    "print(y_test.shape)"
   ]
  },
  {
   "cell_type": "markdown",
   "metadata": {},
   "source": [
    "## Model"
   ]
  },
  {
   "cell_type": "code",
   "execution_count": 30,
   "metadata": {
    "execution": {
     "iopub.execute_input": "2021-05-20T18:53:04.894695Z",
     "iopub.status.busy": "2021-05-20T18:53:04.894013Z",
     "iopub.status.idle": "2021-05-20T18:53:05.071200Z",
     "shell.execute_reply": "2021-05-20T18:53:05.070694Z",
     "shell.execute_reply.started": "2021-05-20T18:44:12.897161Z"
    },
    "papermill": {
     "duration": 0.199272,
     "end_time": "2021-05-20T18:53:05.071343",
     "exception": false,
     "start_time": "2021-05-20T18:53:04.872071",
     "status": "completed"
    },
    "tags": []
   },
   "outputs": [],
   "source": [
    "# Build up model - Sequential (Convolutional Model)\n",
    "model = tf.keras.Sequential([])\n",
    "model.add(tf.keras.layers.Conv2D(32, (3, 3), padding = 'same', activation='relu', input_shape=(28, 28, 1)))\n",
    "model.add(tf.keras.layers.MaxPooling2D(2, 2)),\n",
    "model.add(tf.keras.layers.Conv2D(64, (3, 3), padding = 'same', activation='relu'))\n",
    "model.add(tf.keras.layers.MaxPooling2D(2, 2)),\n",
    "model.add(tf.keras.layers.Conv2D(128, (3, 3), padding = 'same', activation='relu'))\n",
    "model.add(tf.keras.layers.MaxPooling2D(2, 2)),\n",
    "model.add(tf.keras.layers.Conv2D(128, (3, 3), padding = 'same', activation='relu'))\n",
    "model.add(tf.keras.layers.MaxPooling2D(2, 2)),\n",
    "model.add(tf.keras.layers.Dropout(0.5))\n",
    "model.add(tf.keras.layers.Flatten())\n",
    "model.add(tf.keras.layers.Dense(256, activation='relu'))\n",
    "model.add(tf.keras.layers.Dropout(0.5))\n",
    "model.add(tf.keras.layers.Dense(10, activation='softmax'))"
   ]
  },
  {
   "cell_type": "code",
   "execution_count": 31,
   "metadata": {},
   "outputs": [
    {
     "name": "stdout",
     "output_type": "stream",
     "text": [
      "Model: \"sequential_3\"\n",
      "_________________________________________________________________\n",
      "Layer (type)                 Output Shape              Param #   \n",
      "=================================================================\n",
      "conv2d_12 (Conv2D)           (None, 28, 28, 32)        320       \n",
      "_________________________________________________________________\n",
      "max_pooling2d_12 (MaxPooling (None, 14, 14, 32)        0         \n",
      "_________________________________________________________________\n",
      "conv2d_13 (Conv2D)           (None, 14, 14, 64)        18496     \n",
      "_________________________________________________________________\n",
      "max_pooling2d_13 (MaxPooling (None, 7, 7, 64)          0         \n",
      "_________________________________________________________________\n",
      "conv2d_14 (Conv2D)           (None, 7, 7, 128)         73856     \n",
      "_________________________________________________________________\n",
      "max_pooling2d_14 (MaxPooling (None, 3, 3, 128)         0         \n",
      "_________________________________________________________________\n",
      "conv2d_15 (Conv2D)           (None, 3, 3, 128)         147584    \n",
      "_________________________________________________________________\n",
      "max_pooling2d_15 (MaxPooling (None, 1, 1, 128)         0         \n",
      "_________________________________________________________________\n",
      "dropout_6 (Dropout)          (None, 1, 1, 128)         0         \n",
      "_________________________________________________________________\n",
      "flatten_3 (Flatten)          (None, 128)               0         \n",
      "_________________________________________________________________\n",
      "dense_6 (Dense)              (None, 256)               33024     \n",
      "_________________________________________________________________\n",
      "dropout_7 (Dropout)          (None, 256)               0         \n",
      "_________________________________________________________________\n",
      "dense_7 (Dense)              (None, 10)                2570      \n",
      "=================================================================\n",
      "Total params: 275,850\n",
      "Trainable params: 275,850\n",
      "Non-trainable params: 0\n",
      "_________________________________________________________________\n"
     ]
    }
   ],
   "source": [
    "model.summary()"
   ]
  },
  {
   "cell_type": "code",
   "execution_count": 32,
   "metadata": {
    "execution": {
     "iopub.execute_input": "2021-05-20T18:53:05.106319Z",
     "iopub.status.busy": "2021-05-20T18:53:05.105732Z",
     "iopub.status.idle": "2021-05-20T18:53:05.112455Z",
     "shell.execute_reply": "2021-05-20T18:53:05.111933Z",
     "shell.execute_reply.started": "2021-05-20T18:44:17.547875Z"
    },
    "papermill": {
     "duration": 0.02946,
     "end_time": "2021-05-20T18:53:05.112605",
     "exception": false,
     "start_time": "2021-05-20T18:53:05.083145",
     "status": "completed"
    },
    "tags": []
   },
   "outputs": [],
   "source": [
    "# Compile model\n",
    "model.compile(optimizer='adam', loss='categorical_crossentropy', metrics=['accuracy'])"
   ]
  },
  {
   "cell_type": "code",
   "execution_count": 33,
   "metadata": {
    "execution": {
     "iopub.execute_input": "2021-05-20T18:53:05.143144Z",
     "iopub.status.busy": "2021-05-20T18:53:05.142438Z",
     "iopub.status.idle": "2021-05-20T18:53:05.272657Z",
     "shell.execute_reply": "2021-05-20T18:53:05.272148Z",
     "shell.execute_reply.started": "2021-05-20T18:44:19.160158Z"
    },
    "papermill": {
     "duration": 0.147561,
     "end_time": "2021-05-20T18:53:05.272802",
     "exception": false,
     "start_time": "2021-05-20T18:53:05.125241",
     "status": "completed"
    },
    "tags": []
   },
   "outputs": [],
   "source": [
    "#Add ImageDataGenerator\n",
    "datagen = ImageDataGenerator(rotation_range=20, zoom_range=0.2)\n",
    "datagen.fit(X_train)"
   ]
  },
  {
   "cell_type": "code",
   "execution_count": 34,
   "metadata": {
    "execution": {
     "iopub.execute_input": "2021-05-20T18:53:05.301669Z",
     "iopub.status.busy": "2021-05-20T18:53:05.300943Z",
     "iopub.status.idle": "2021-05-20T18:59:46.876115Z",
     "shell.execute_reply": "2021-05-20T18:59:46.875549Z",
     "shell.execute_reply.started": "2021-05-20T18:44:20.817044Z"
    },
    "papermill": {
     "duration": 401.591653,
     "end_time": "2021-05-20T18:59:46.876272",
     "exception": false,
     "start_time": "2021-05-20T18:53:05.284619",
     "status": "completed"
    },
    "tags": []
   },
   "outputs": [
    {
     "name": "stderr",
     "output_type": "stream",
     "text": [
      "D:\\Users\\owner\\Desktop\\WPy64-3870\\python-3.8.7.amd64\\lib\\site-packages\\tensorflow\\python\\keras\\engine\\training.py:1940: UserWarning: `Model.fit_generator` is deprecated and will be removed in a future version. Please use `Model.fit`, which supports generators.\n",
      "  warnings.warn('`Model.fit_generator` is deprecated and '\n"
     ]
    },
    {
     "name": "stdout",
     "output_type": "stream",
     "text": [
      "Epoch 1/10\n",
      "1050/1050 [==============================] - 88s 78ms/step - loss: 0.5088 - accuracy: 0.8330\n",
      "Epoch 2/10\n",
      "1050/1050 [==============================] - 91s 86ms/step - loss: 0.1563 - accuracy: 0.9552\n",
      "Epoch 3/10\n",
      "1050/1050 [==============================] - 86s 82ms/step - loss: 0.1195 - accuracy: 0.9667\n",
      "Epoch 4/10\n",
      "1050/1050 [==============================] - 95s 91ms/step - loss: 0.1012 - accuracy: 0.97150s - loss: 0.1010 - accura\n",
      "Epoch 5/10\n",
      "1050/1050 [==============================] - 152s 145ms/step - loss: 0.0832 - accuracy: 0.9760\n",
      "Epoch 6/10\n",
      "1050/1050 [==============================] - 139s 132ms/step - loss: 0.0792 - accuracy: 0.9775\n",
      "Epoch 7/10\n",
      "1050/1050 [==============================] - 114s 109ms/step - loss: 0.0732 - accuracy: 0.9793\n",
      "Epoch 8/10\n",
      "1050/1050 [==============================] - 125s 119ms/step - loss: 0.0694 - accuracy: 0.9809\n",
      "Epoch 9/10\n",
      "1050/1050 [==============================] - 152s 145ms/step - loss: 0.0640 - accuracy: 0.9818\n",
      "Epoch 10/10\n",
      "1050/1050 [==============================] - 144s 137ms/step - loss: 0.0618 - accuracy: 0.9825\n"
     ]
    },
    {
     "data": {
      "text/plain": [
       "<tensorflow.python.keras.callbacks.History at 0x8e2c3af3d0>"
      ]
     },
     "execution_count": 34,
     "metadata": {},
     "output_type": "execute_result"
    }
   ],
   "source": [
    "# Fit model\n",
    "#model.fit(X_train, y_train, validation_data = (X_test,y_test), epochs=10)\n",
    "model.fit_generator(datagen.flow(X_train, y_train, batch_size=32),\n",
    "                    steps_per_epoch=len(X_train)/32, epochs=10)"
   ]
  },
  {
   "cell_type": "code",
   "execution_count": 35,
   "metadata": {
    "execution": {
     "iopub.execute_input": "2021-05-20T18:59:49.785656Z",
     "iopub.status.busy": "2021-05-20T18:59:49.784953Z",
     "iopub.status.idle": "2021-05-20T18:59:51.478206Z",
     "shell.execute_reply": "2021-05-20T18:59:51.477033Z",
     "shell.execute_reply.started": "2021-05-20T18:51:32.752795Z"
    },
    "papermill": {
     "duration": 3.088255,
     "end_time": "2021-05-20T18:59:51.478419",
     "exception": false,
     "start_time": "2021-05-20T18:59:48.390164",
     "status": "completed"
    },
    "tags": []
   },
   "outputs": [
    {
     "name": "stdout",
     "output_type": "stream",
     "text": [
      "263/263 [==============================] - 10s 33ms/step - loss: 0.0521 - accuracy: 0.9855\n"
     ]
    },
    {
     "data": {
      "text/plain": [
       "[0.05209454149007797, 0.9854761958122253]"
      ]
     },
     "execution_count": 35,
     "metadata": {},
     "output_type": "execute_result"
    }
   ],
   "source": [
    "# Evaluation\n",
    "model.evaluate(X_test,y_test)"
   ]
  },
  {
   "cell_type": "code",
   "execution_count": 37,
   "metadata": {
    "execution": {
     "iopub.execute_input": "2021-05-20T18:59:54.370891Z",
     "iopub.status.busy": "2021-05-20T18:59:54.369799Z",
     "iopub.status.idle": "2021-05-20T19:00:03.862456Z",
     "shell.execute_reply": "2021-05-20T19:00:03.861580Z",
     "shell.execute_reply.started": "2021-05-20T18:51:40.827763Z"
    },
    "papermill": {
     "duration": 10.961419,
     "end_time": "2021-05-20T19:00:03.862637",
     "exception": false,
     "start_time": "2021-05-20T18:59:52.901218",
     "status": "completed"
    },
    "tags": []
   },
   "outputs": [],
   "source": [
    "# Predict data\n",
    "predictions = model.predict(test)\n",
    "y_pred = np.argmax(predictions, axis=1)"
   ]
  },
  {
   "cell_type": "code",
   "execution_count": 44,
   "metadata": {},
   "outputs": [
    {
     "data": {
      "image/png": "[encoded data removed]",
      "text/plain": [
       "<Figure size 360x360 with 9 Axes>"
      ]
     },
     "metadata": {},
     "output_type": "display_data"
    }
   ],
   "source": [
    "# Show some prediction\n",
    "plt.figure(figsize=(5,5))\n",
    "\n",
    "for i in range(9):\n",
    "    plt.subplot(3,3,i+1)\n",
    "    plt.imshow(test[i])\n",
    "    plt.xticks([])\n",
    "    plt.yticks([])\n",
    "    plt.xlabel(y_pred[i])"
   ]
  },
  {
   "cell_type": "code",
   "execution_count": 46,
   "metadata": {
    "execution": {
     "iopub.execute_input": "2021-05-20T19:00:10.240638Z",
     "iopub.status.busy": "2021-05-20T19:00:10.239868Z",
     "iopub.status.idle": "2021-05-20T19:00:10.278207Z",
     "shell.execute_reply": "2021-05-20T19:00:10.277653Z",
     "shell.execute_reply.started": "2021-05-20T18:51:58.918555Z"
    },
    "papermill": {
     "duration": 1.58178,
     "end_time": "2021-05-20T19:00:10.278368",
     "exception": false,
     "start_time": "2021-05-20T19:00:08.696588",
     "status": "completed"
    },
    "tags": []
   },
   "outputs": [],
   "source": [
    "# Save data\n",
    "submission['Label'] = pd.DataFrame(y_pred)\n",
    "submission.to_csv('D:/Users/owner/Desktop/submission.csv', index = False)"
   ]
  },
  {
   "cell_type": "code",
   "execution_count": null,
   "metadata": {
    "execution": {
     "iopub.execute_input": "2021-05-20T19:00:10.240638Z",
     "iopub.status.busy": "2021-05-20T19:00:10.239868Z",
     "iopub.status.idle": "2021-05-20T19:00:10.278207Z",
     "shell.execute_reply": "2021-05-20T19:00:10.277653Z",
     "shell.execute_reply.started": "2021-05-20T18:51:58.918555Z"
    },
    "papermill": {
     "duration": 1.58178,
     "end_time": "2021-05-20T19:00:10.278368",
     "exception": false,
     "start_time": "2021-05-20T19:00:08.696588",
     "status": "completed"
    },
    "tags": []
   },
   "outputs": [],
   "source": [
    "# Save data\n",
    "#submission['Label'] = pd.DataFrame(y_pred)\n",
    "#submission.to_csv('./DRSubmissions.csv', index = False)"
   ]
  },
  {
   "cell_type": "code",
   "execution_count": null,
   "metadata": {
    "papermill": {
     "duration": 1.440765,
     "end_time": "2021-05-20T19:00:13.157237",
     "exception": false,
     "start_time": "2021-05-20T19:00:11.716472",
     "status": "completed"
    },
    "tags": []
   },
   "outputs": [],
   "source": []
  }
 ],
 "metadata": {
  "kernelspec": {
   "display_name": "Python 3",
   "language": "python",
   "name": "python3"
  },
  "language_info": {
   "codemirror_mode": {
    "name": "ipython",
    "version": 3
   },
   "file_extension": ".py",
   "mimetype": "text/x-python",
   "name": "python",
   "nbconvert_exporter": "python",
   "pygments_lexer": "ipython3",
   "version": "3.8.7"
  },
  "papermill": {
   "default_parameters": {},
   "duration": 455.328864,
   "end_time": "2021-05-20T19:00:16.838549",
   "environment_variables": {},
   "exception": null,
   "input_path": "__notebook__.ipynb",
   "output_path": "__notebook__.ipynb",
   "parameters": {},
   "start_time": "2021-05-20T18:52:41.509685",
   "version": "2.3.3"
  }
 },
 "nbformat": 4,
 "nbformat_minor": 5
}
